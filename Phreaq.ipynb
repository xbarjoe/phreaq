{
 "cells": [
  {
   "cell_type": "code",
   "execution_count": 72,
   "metadata": {},
   "outputs": [],
   "source": [
    "import numpy as np\n",
    "import scipy.io.wavfile\n",
    "import keras\n",
    "from keras import layers\n",
    "from pydub import AudioSegment\n",
    "%matplotlib inline\n",
    "import matplotlib.pyplot as plt"
   ]
  },
  {
   "cell_type": "code",
   "execution_count": 43,
   "metadata": {},
   "outputs": [],
   "source": [
    "sampleRate = 44100"
   ]
  },
  {
   "cell_type": "code",
   "execution_count": 35,
   "metadata": {},
   "outputs": [],
   "source": [
    "localdir=r'C:/Users/Stephen/Documents/repos/Phreaq/phreaq'"
   ]
  },
  {
   "cell_type": "code",
   "execution_count": 36,
   "metadata": {},
   "outputs": [
    {
     "data": {
      "text/plain": [
       "<_io.BufferedRandom name='C:/Users/Stephen/Documents/repos/Phreaq/phreaq/kevinmacleod_brokenreality320.wav'>"
      ]
     },
     "execution_count": 36,
     "metadata": {},
     "output_type": "execute_result"
    }
   ],
   "source": [
    "song128 = AudioSegment.from_mp3(localdir+\"/kevinmacleod_brokenreality128.mp3\")\n",
    "song128.export(localdir+\"/kevinmacleod_brokenreality128.wav\", format=\"wav\")\n",
    "song320 = AudioSegment.from_mp3(localdir+\"/kevinmacleod_brokenreality320.mp3\")\n",
    "song320.export(localdir+\"/kevinmacleod_brokenreality320.wav\", format=\"wav\")"
   ]
  },
  {
   "cell_type": "code",
   "execution_count": 50,
   "metadata": {},
   "outputs": [],
   "source": [
    "sr128, data128 = scipy.io.wavfile.read(localdir+\"/kevinmacleod_brokenreality128.wav\")\n",
    "sr320, data320 = scipy.io.wavfile.read(localdir+\"/kevinmacleod_brokenreality320.wav\")"
   ]
  },
  {
   "cell_type": "code",
   "execution_count": 66,
   "metadata": {},
   "outputs": [],
   "source": [
    "fft128=np.fft.fft(data128)\n",
    "fft320=np.fft.fft(data320)"
   ]
  },
  {
   "cell_type": "code",
   "execution_count": 75,
   "metadata": {},
   "outputs": [
    {
     "name": "stdout",
     "output_type": "stream",
     "text": [
      "9624960\n",
      "9624960\n"
     ]
    }
   ],
   "source": [
    "print(len(fft128))\n",
    "print(len(fft320))"
   ]
  },
  {
   "cell_type": "code",
   "execution_count": 73,
   "metadata": {},
   "outputs": [],
   "source": [
    "model = keras.Sequential(\n",
    "    [\n",
    "        layers.Dense(2, activation=\"relu\", name=\"layer1\"),\n",
    "        layers.Dense(3, activation=\"relu\", name=\"layer2\"),\n",
    "        layers.Dense(4, name=\"layer3\"),\n",
    "    ]\n",
    ")"
   ]
  },
  {
   "cell_type": "code",
   "execution_count": 78,
   "metadata": {},
   "outputs": [],
   "source": [
    "#TODO\n",
    "#FIGURE OUT A WAY TO GENERATE TRAINING DATA, this would be a lot easier if my music library was actually somewhat organized\n",
    "#\n",
    "#DETERMINE MODEL STRUCTURE\n",
    "#\n",
    "#METHOD: PUT FOURIER TRANSFORM OF DATA INTO BINS OF A FIXED SIZE(20ms maybe?) \n",
    "#\n",
    "#BINS FROM 128 FILE -> X of TRAINING\n",
    "#BINS FROM 320 FILE -> Y of TRAINING\n",
    "#\n",
    "#ONCE NETWORK IS TRAINED,\n",
    "#SCRIPT FUNCTION:\n",
    "#READ IN 128 DATA->FFT->BINS->FEED INDIVIDUAL BINS TO DNN->STICH BINS BACK TOGETHER->IFFT->SAVE AS \n",
    "#\n",
    "#\n"
   ]
  },
  {
   "cell_type": "code",
   "execution_count": null,
   "metadata": {},
   "outputs": [],
   "source": []
  }
 ],
 "metadata": {
  "kernelspec": {
   "display_name": "Python 3",
   "language": "python",
   "name": "python3"
  },
  "language_info": {
   "codemirror_mode": {
    "name": "ipython",
    "version": 3
   },
   "file_extension": ".py",
   "mimetype": "text/x-python",
   "name": "python",
   "nbconvert_exporter": "python",
   "pygments_lexer": "ipython3",
   "version": "3.7.6"
  }
 },
 "nbformat": 4,
 "nbformat_minor": 4
}
